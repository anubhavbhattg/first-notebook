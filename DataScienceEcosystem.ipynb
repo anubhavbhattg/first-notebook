<center>
    <img src="https://cf-courses-data.s3.us.cloud-object-storage.appdomain.cloud/IBMDeveloperSkillsNetwork-DS0105EN-SkillsNetwork/labs/Module2/images/SN_web_lightmode.png" width="300" alt="cognitiveclass.ai logo">
</center>

# Data Science Tools and Ecosystem
In this notebook, Data Science Tools and Ecosystem are summarized.

**Objectives:**
- List popular languages for Data Science
- List popular libraries used by Data Scientists
- List of Data Science Tools in Tabular Form
- Few Examples of Arithmetic Expression

Some of the popular languages that Data Scientists use are:
1. Python
2. Java
3. R 

Some of the commonly used libraries used by Data Scientists include:
1. Panda
2. NumPy
3. SciKit-learn

| Data Science Tools |
----------------------
| WEKA               |
| Apache MLib        |
| Java-ML            |
| Deeplearning4      |

### Below are a few examples of evaluating arithmetic expressions in Python.
This a simple arithmetic expression to mutiply then add integers
(3*4)+5
This will convert 200 minutes to hours by diving by 60
minutes = 200
hours = 200/60
print(hours)

## Author
Anubhav Bhatt
